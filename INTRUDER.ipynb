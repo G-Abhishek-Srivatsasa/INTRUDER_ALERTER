{
 "cells": [
  {
   "cell_type": "code",
   "execution_count": 3,
   "id": "b50d7435",
   "metadata": {},
   "outputs": [],
   "source": [
    "# IMPORT SECTION\n",
    "import cv2\n",
    "import time\n",
    "from playsound import playsound\n",
    "import pyttsx3"
   ]
  },
  {
   "cell_type": "code",
   "execution_count": 4,
   "id": "90a4315c",
   "metadata": {},
   "outputs": [],
   "source": [
    "engine = pyttsx3.init()\n",
    "\n",
    "voices = engine.getProperty(\"voices\")\n",
    "engine.setProperty(\"voice\",voices[0].id)\n",
    "\n",
    "engine.setProperty(\"rate\",200)\n"
   ]
  },
  {
   "cell_type": "code",
   "execution_count": 6,
   "id": "d567ec6b",
   "metadata": {},
   "outputs": [
    {
     "name": "stdout",
     "output_type": "stream",
     "text": [
      "Motion Detected! 11109\n",
      "Motion Detected! 10129\n",
      "Motion Detected! 9224\n",
      "Motion Detected! 8511\n",
      "Motion Detected! 7336\n",
      "Motion Detected! 5952\n",
      "Motion Detected! 4698\n",
      "Motion Detected! 3545\n",
      "Motion Detected! 2254\n",
      "Motion Detected! 1418\n",
      "Motion Detected! 710\n",
      "Motion Detected! 318\n",
      "Motion Detected! 406\n",
      "Motion Detected! 1485\n",
      "Motion Detected! 3817\n",
      "Motion Detected! 5624\n",
      "Motion Detected! 8322\n",
      "Motion Detected! 10662\n",
      "Motion Detected! 12144\n",
      "Motion Detected! 11858\n",
      "Motion Detected! 9926\n",
      "Motion Detected! 7180\n",
      "Motion Detected! 3363\n",
      "Motion Detected! 2817\n",
      "Motion Detected! 5255\n",
      "Motion Detected! 7826\n",
      "Motion Detected! 8538\n",
      "Motion Detected! 9062\n",
      "Motion Detected! 8439\n",
      "Motion Detected! 6852\n",
      "Motion Detected! 5115\n",
      "Motion Detected! 3700\n",
      "Motion Detected! 2460\n",
      "Motion Detected! 1529\n",
      "Motion Detected! 932\n",
      "Motion Detected! 783\n",
      "Motion Detected! 915\n",
      "Motion Detected! 801\n",
      "Motion Detected! 691\n",
      "Motion Detected! 530\n",
      "Motion Detected! 372\n",
      "Motion Detected! 1338\n",
      "Motion Detected! 2876\n",
      "Motion Detected! 4424\n",
      "Motion Detected! 7169\n",
      "Motion Detected! 8403\n",
      "Motion Detected! 9310\n",
      "Motion Detected! 9971\n",
      "Motion Detected! 12648\n",
      "Motion Detected! 16163\n",
      "Motion Detected! 17748\n",
      "Motion Detected! 18408\n",
      "Motion Detected! 18566\n",
      "Motion Detected! 15966\n",
      "Motion Detected! 7364\n",
      "Motion Detected! 1501\n",
      "Motion Detected! 11433\n",
      "Motion Detected! 16671\n",
      "Motion Detected! 18919\n",
      "Motion Detected! 20091\n",
      "Motion Detected! 20609\n",
      "Motion Detected! 18538\n",
      "Motion Detected! 15738\n",
      "Motion Detected! 13206\n",
      "Motion Detected! 9732\n",
      "Motion Detected! 7607\n",
      "Motion Detected! 5688\n",
      "Motion Detected! 4979\n",
      "Motion Detected! 4325\n",
      "Motion Detected! 3233\n",
      "Motion Detected! 1736\n",
      "Motion Detected! 452\n",
      "Motion Detected! 998\n",
      "Motion Detected! 3166\n",
      "Motion Detected! 4250\n",
      "Motion Detected! 4040\n",
      "Motion Detected! 2917\n",
      "Motion Detected! 1582\n",
      "Motion Detected! 346\n"
     ]
    },
    {
     "ename": "KeyboardInterrupt",
     "evalue": "",
     "output_type": "error",
     "traceback": [
      "\u001b[31m---------------------------------------------------------------------------\u001b[39m",
      "\u001b[31mKeyboardInterrupt\u001b[39m                         Traceback (most recent call last)",
      "\u001b[36mCell\u001b[39m\u001b[36m \u001b[39m\u001b[32mIn[6]\u001b[39m\u001b[32m, line 12\u001b[39m\n\u001b[32m      8\u001b[39m prev_frame_gray = cv2.cvtColor(prev_frame, cv2.COLOR_BGR2GRAY)\n\u001b[32m     10\u001b[39m \u001b[38;5;28;01mwhile\u001b[39;00m \u001b[38;5;28;01mTrue\u001b[39;00m:\n\u001b[32m     11\u001b[39m     \u001b[38;5;66;03m# Read next frame\u001b[39;00m\n\u001b[32m---> \u001b[39m\u001b[32m12\u001b[39m     ret, frame = \u001b[43mcap\u001b[49m\u001b[43m.\u001b[49m\u001b[43mread\u001b[49m\u001b[43m(\u001b[49m\u001b[43m)\u001b[49m\n\u001b[32m     13\u001b[39m     \u001b[38;5;28;01mif\u001b[39;00m \u001b[38;5;129;01mnot\u001b[39;00m ret:\n\u001b[32m     14\u001b[39m         \u001b[38;5;28;01mbreak\u001b[39;00m\n",
      "\u001b[31mKeyboardInterrupt\u001b[39m: "
     ]
    }
   ],
   "source": [
    "# Sensitivity\n",
    "MOTION_THRESHOLD = 300\n",
    "\n",
    "cap = cv2.VideoCapture(0)\n",
    "\n",
    "# Read first frame\n",
    "ret, prev_frame = cap.read()\n",
    "prev_frame_gray = cv2.cvtColor(prev_frame, cv2.COLOR_BGR2GRAY)\n",
    "\n",
    "while True:\n",
    "    # Read next frame\n",
    "    ret, frame = cap.read()\n",
    "    if not ret:\n",
    "        break\n",
    "\n",
    "    # Convert to gray for comparison\n",
    "    gray = cv2.cvtColor(frame, cv2.COLOR_BGR2GRAY)\n",
    "\n",
    "    # Find difference\n",
    "    diff = cv2.absdiff(prev_frame_gray, gray)\n",
    "    _, thresh = cv2.threshold(diff, 25, 255, cv2.THRESH_BINARY)\n",
    "\n",
    "    motion_score = cv2.countNonZero(thresh)\n",
    "\n",
    "    # Show live feed\n",
    "    cv2.imshow(\"Security Feed\", frame)\n",
    "\n",
    "    # Motion detection\n",
    "    if motion_score > MOTION_THRESHOLD:\n",
    "        print(\"Motion Detected!\", motion_score)\n",
    "        engine.say(\"Intruder Alert! Motion Detected!\")\n",
    "        \n",
    "\n",
    "    # Update previous frame\n",
    "    prev_frame_gray = gray\n",
    "\n",
    "    # Exit on 'q'\n",
    "    if cv2.waitKey(1) & 0xFF == ord('q'):\n",
    "        break\n",
    "\n",
    "cap.release()\n",
    "cv2.destroyAllWindows()\n"
   ]
  },
  {
   "cell_type": "code",
   "execution_count": null,
   "id": "dd1afd5c",
   "metadata": {},
   "outputs": [
    {
     "name": "stdout",
     "output_type": "stream",
     "text": [
      "Defaulting to user installation because normal site-packages is not writeable\n",
      "Requirement already satisfied: pyttsx3 in c:\\users\\guntu\\appdata\\local\\packages\\pythonsoftwarefoundation.python.3.13_qbz5n2kfra8p0\\localcache\\local-packages\\python313\\site-packages (2.99)\n",
      "Requirement already satisfied: comtypes in c:\\users\\guntu\\appdata\\local\\packages\\pythonsoftwarefoundation.python.3.13_qbz5n2kfra8p0\\localcache\\local-packages\\python313\\site-packages (from pyttsx3) (1.4.11)\n",
      "Requirement already satisfied: pypiwin32 in c:\\users\\guntu\\appdata\\local\\packages\\pythonsoftwarefoundation.python.3.13_qbz5n2kfra8p0\\localcache\\local-packages\\python313\\site-packages (from pyttsx3) (223)\n",
      "Requirement already satisfied: pywin32 in c:\\users\\guntu\\appdata\\local\\packages\\pythonsoftwarefoundation.python.3.13_qbz5n2kfra8p0\\localcache\\local-packages\\python313\\site-packages (from pyttsx3) (310)\n"
     ]
    }
   ],
   "source": [
    "! pip install pyttsx3"
   ]
  },
  {
   "cell_type": "code",
   "execution_count": null,
   "id": "c968109b",
   "metadata": {},
   "outputs": [],
   "source": []
  }
 ],
 "metadata": {
  "kernelspec": {
   "display_name": "Python 3",
   "language": "python",
   "name": "python3"
  },
  "language_info": {
   "codemirror_mode": {
    "name": "ipython",
    "version": 3
   },
   "file_extension": ".py",
   "mimetype": "text/x-python",
   "name": "python",
   "nbconvert_exporter": "python",
   "pygments_lexer": "ipython3",
   "version": "3.13.6"
  }
 },
 "nbformat": 4,
 "nbformat_minor": 5
}
