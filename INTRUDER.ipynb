{
 "cells": [
  {
   "cell_type": "code",
   "execution_count": null,
   "id": "b50d7435",
   "metadata": {},
   "outputs": [],
   "source": [
    "# IMPORT SECTION\n",
    "import cv2\n",
    "import time\n",
    "from playsound import playsound\n",
    "import pyttsx3"
   ]
  },
  {
   "cell_type": "code",
   "execution_count": null,
   "id": "90a4315c",
   "metadata": {},
   "outputs": [],
   "source": [
    "engine = pyttsx3.init()\n",
    "\n",
    "voices = engine.getProperty(\"voices\")\n",
    "engine.setProperty(\"voice\",voices[0].id)\n",
    "\n",
    "engine.setProperty(\"rate\",200)\n"
   ]
  },
  {
   "cell_type": "code",
   "execution_count": null,
   "id": "d567ec6b",
   "metadata": {},
   "outputs": [],
   "source": [
    "# Sensitivity\n",
    "MOTION_THRESHOLD = 300\n",
    "\n",
    "cap = cv2.VideoCapture(0)\n",
    "\n",
    "# Read first frame\n",
    "ret, prev_frame = cap.read()\n",
    "prev_frame_gray = cv2.cvtColor(prev_frame, cv2.COLOR_BGR2GRAY)\n",
    "\n",
    "while True:\n",
    "    # Read next frame\n",
    "    ret, frame = cap.read()\n",
    "    if not ret:\n",
    "        break\n",
    "\n",
    "    # Convert to gray for comparison\n",
    "    gray = cv2.cvtColor(frame, cv2.COLOR_BGR2GRAY)\n",
    "\n",
    "    # Find difference\n",
    "    diff = cv2.absdiff(prev_frame_gray, gray)\n",
    "    _, thresh = cv2.threshold(diff, 25, 255, cv2.THRESH_BINARY)\n",
    "\n",
    "    motion_score = cv2.countNonZero(thresh)\n",
    "\n",
    "    # Show live feed\n",
    "    cv2.imshow(\"Security Feed\", frame)\n",
    "\n",
    "    # Motion detection\n",
    "    if motion_score > MOTION_THRESHOLD:\n",
    "        print(\"Motion Detected!\", motion_score)\n",
    "        engine.say(\"Intruder Alert! Motion Detected!\")\n",
    "        \n",
    "\n",
    "    # Update previous frame\n",
    "    prev_frame_gray = gray\n",
    "\n",
    "    # Exit on 'q'\n",
    "    if cv2.waitKey(1) & 0xFF == ord('q'):\n",
    "        break\n",
    "\n",
    "cap.release()\n",
    "cv2.destroyAllWindows()\n"
   ]
  },
  {
   "cell_type": "code",
   "execution_count": null,
   "id": "dd1afd5c",
   "metadata": {},
   "outputs": [],
   "source": []
  },
  {
   "cell_type": "code",
   "execution_count": null,
   "id": "c968109b",
   "metadata": {},
   "outputs": [],
   "source": []
  }
 ],
 "metadata": {
  "kernelspec": {
   "display_name": "Python 3",
   "language": "python",
   "name": "python3"
  },
  "language_info": {
   "codemirror_mode": {
    "name": "ipython",
    "version": 3
   },
   "file_extension": ".py",
   "mimetype": "text/x-python",
   "name": "python",
   "nbconvert_exporter": "python",
   "pygments_lexer": "ipython3",
   "version": "3.13.6"
  }
 },
 "nbformat": 4,
 "nbformat_minor": 5
}
